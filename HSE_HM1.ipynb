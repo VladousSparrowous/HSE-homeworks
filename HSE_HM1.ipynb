{
  "nbformat": 4,
  "nbformat_minor": 0,
  "metadata": {
    "colab": {
      "provenance": [],
      "authorship_tag": "ABX9TyMadUWwJzY3hyZFVXAQMxQN",
      "include_colab_link": true
    },
    "kernelspec": {
      "name": "python3",
      "display_name": "Python 3"
    },
    "language_info": {
      "name": "python"
    }
  },
  "cells": [
    {
      "cell_type": "markdown",
      "metadata": {
        "id": "view-in-github",
        "colab_type": "text"
      },
      "source": [
        "<a href=\"https://colab.research.google.com/github/VladousSparrowous/HSE-homeworks/blob/main/HSE_HM1.ipynb\" target=\"_parent\"><img src=\"https://colab.research.google.com/assets/colab-badge.svg\" alt=\"Open In Colab\"/></a>"
      ]
    },
    {
      "cell_type": "code",
      "execution_count": null,
      "metadata": {
        "colab": {
          "base_uri": "https://localhost:8080/"
        },
        "id": "M7LdU6dPAHKi",
        "outputId": "795d3fe3-3b39-4b13-aadd-8b1f29e3b62a"
      },
      "outputs": [
        {
          "output_type": "stream",
          "name": "stdout",
          "text": [
            "6\n",
            "13\n"
          ]
        }
      ],
      "source": [
        "# @title 1A\n",
        "\n",
        "def Fib(n):\n",
        "    if n == 0 or n == 1:\n",
        "        return 1\n",
        "    return Fib(n - 1) + Fib(n - 2)\n",
        "\n",
        "n = int(input())\n",
        "print(Fib(n))"
      ]
    },
    {
      "cell_type": "code",
      "source": [
        "# @title 1B\n",
        "\n",
        "n = int(input())\n",
        "mas = list(map(int, input().split()))\n",
        "\n",
        "for i in range(n // 2):\n",
        "    mas[i], mas[n - 1 - i] = mas[n - 1 - i], mas[i]\n",
        "print(*mas)"
      ],
      "metadata": {
        "colab": {
          "base_uri": "https://localhost:8080/"
        },
        "id": "hi618gviBpjG",
        "outputId": "aa4936b5-1863-4dce-c604-7ac4a1c1b83c"
      },
      "execution_count": null,
      "outputs": [
        {
          "output_type": "stream",
          "name": "stdout",
          "text": [
            "3\n",
            "1 2 -3\n",
            "-3 2 1\n"
          ]
        }
      ]
    },
    {
      "cell_type": "code",
      "source": [
        "# @title 1C\n",
        "\n",
        "n = int(input())\n",
        "mas = list(map(int, input().split()))\n",
        "\n",
        "new_mas = list()\n",
        "count = 0\n",
        "for i in mas:\n",
        "    ind = 0\n",
        "    for j in range(len(new_mas) - 1, -1, -1):\n",
        "        count += 1\n",
        "        if new_mas[j] <= i:\n",
        "            ind = j + 1\n",
        "            break\n",
        "    new_mas = new_mas[:ind] + [i] + new_mas[ind:]\n",
        "\n",
        "print(*new_mas)\n",
        "print(count)"
      ],
      "metadata": {
        "colab": {
          "base_uri": "https://localhost:8080/"
        },
        "id": "64wDhA1mCv11",
        "outputId": "82dbbf0d-d05f-4bf9-b1fc-7e3e34b51337"
      },
      "execution_count": 25,
      "outputs": [
        {
          "output_type": "stream",
          "name": "stdout",
          "text": [
            "1\n",
            "3\n",
            "3\n",
            "0\n"
          ]
        }
      ]
    },
    {
      "cell_type": "code",
      "source": [
        "# @title 1D\n",
        "\n"
      ],
      "metadata": {
        "id": "Q1bOTKpCNxFV"
      },
      "execution_count": null,
      "outputs": []
    }
  ]
}