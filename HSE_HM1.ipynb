{
  "nbformat": 4,
  "nbformat_minor": 0,
  "metadata": {
    "colab": {
      "provenance": [],
      "authorship_tag": "ABX9TyMMN9IFxx2soNqfe690nUuo",
      "include_colab_link": true
    },
    "kernelspec": {
      "name": "python3",
      "display_name": "Python 3"
    },
    "language_info": {
      "name": "python"
    }
  },
  "cells": [
    {
      "cell_type": "markdown",
      "metadata": {
        "id": "view-in-github",
        "colab_type": "text"
      },
      "source": [
        "<a href=\"https://colab.research.google.com/github/VladousSparrowous/HSE-homeworks/blob/main/HSE_HM1.ipynb\" target=\"_parent\"><img src=\"https://colab.research.google.com/assets/colab-badge.svg\" alt=\"Open In Colab\"/></a>"
      ]
    },
    {
      "cell_type": "code",
      "execution_count": null,
      "metadata": {
        "colab": {
          "base_uri": "https://localhost:8080/"
        },
        "id": "M7LdU6dPAHKi",
        "outputId": "795d3fe3-3b39-4b13-aadd-8b1f29e3b62a"
      },
      "outputs": [
        {
          "output_type": "stream",
          "name": "stdout",
          "text": [
            "6\n",
            "13\n"
          ]
        }
      ],
      "source": [
        "# @title 1A\n",
        "\n",
        "def Fib(n):\n",
        "    if n == 0 or n == 1:\n",
        "        return 1\n",
        "    return Fib(n - 1) + Fib(n - 2)\n",
        "\n",
        "n = int(input())\n",
        "print(Fib(n))"
      ]
    },
    {
      "cell_type": "code",
      "source": [
        "# @title 1B\n",
        "\n",
        "n = int(input())\n",
        "mas = list(map(int, input().split()))\n",
        "\n",
        "for i in range(n // 2):\n",
        "    mas[i], mas[n - 1 - i] = mas[n - 1 - i], mas[i]\n",
        "print(*mas)"
      ],
      "metadata": {
        "colab": {
          "base_uri": "https://localhost:8080/"
        },
        "id": "hi618gviBpjG",
        "outputId": "aa4936b5-1863-4dce-c604-7ac4a1c1b83c"
      },
      "execution_count": null,
      "outputs": [
        {
          "output_type": "stream",
          "name": "stdout",
          "text": [
            "3\n",
            "1 2 -3\n",
            "-3 2 1\n"
          ]
        }
      ]
    },
    {
      "cell_type": "code",
      "source": [
        "# @title 1C\n",
        "\n",
        "n = int(input())\n",
        "mas = list(map(int, input().split()))\n",
        "\n",
        "new_mas = list()\n",
        "count = 0\n",
        "for i in mas:\n",
        "    ind = 0\n",
        "    for j in range(len(new_mas) - 1, -1, -1):\n",
        "        count += 1\n",
        "        if new_mas[j] <= i:\n",
        "            ind = j + 1\n",
        "            break\n",
        "    new_mas = new_mas[:ind] + [i] + new_mas[ind:]\n",
        "\n",
        "print(*new_mas)\n",
        "print(count)"
      ],
      "metadata": {
        "colab": {
          "base_uri": "https://localhost:8080/"
        },
        "id": "64wDhA1mCv11",
        "outputId": "82dbbf0d-d05f-4bf9-b1fc-7e3e34b51337"
      },
      "execution_count": 25,
      "outputs": [
        {
          "output_type": "stream",
          "name": "stdout",
          "text": [
            "1\n",
            "3\n",
            "3\n",
            "0\n"
          ]
        }
      ]
    },
    {
      "cell_type": "code",
      "source": [
        "# @title 1D\n",
        "\n",
        "n = int(input())\n",
        "triplets = list()\n",
        "\n",
        "for a in range(1, int(n ** (1 / 3)) + 2):\n",
        "    for b in range(1, n // a + 1):\n",
        "        c = n // (a * b)\n",
        "        if a * b * c == n:\n",
        "            s = 2 * (a * b + b * c + a * c)\n",
        "            triplets.append((s, a, b, c))\n",
        "\n",
        "\n",
        "print(*min(triplets)[1:])\n"
      ],
      "metadata": {
        "colab": {
          "base_uri": "https://localhost:8080/"
        },
        "id": "Q1bOTKpCNxFV",
        "outputId": "5726acfb-ec78-4f2f-f09c-5ef8d0790a53"
      },
      "execution_count": 80,
      "outputs": [
        {
          "output_type": "stream",
          "name": "stdout",
          "text": [
            "1000000\n",
            "100 100 100\n"
          ]
        }
      ]
    },
    {
      "cell_type": "code",
      "source": [
        "# @title 1E\n",
        "\n",
        "n = int(input())\n",
        "min_s = (2 * n + 1)\n",
        "triplet_with_s = (min_s, 1, 1, n)\n",
        "\n",
        "for a in range(1, int(n ** (1 / 3)) + 2):\n",
        "    for b in range(1, int((n // a) ** (1 / 2)) + 2):\n",
        "        c = n // (a * b)\n",
        "        if a * b * c == n:\n",
        "            s = (a * b + b * c + a * c)\n",
        "            if s < min_s:\n",
        "                min_s = s\n",
        "                triplet_with_s = (2 * s, a, b, c)\n",
        "\n",
        "print(*triplet_with_s)\n",
        "\n"
      ],
      "metadata": {
        "colab": {
          "base_uri": "https://localhost:8080/"
        },
        "id": "ejYJP-MlRLjG",
        "outputId": "7442f4bd-b499-4784-c303-4ba3ab2102a5"
      },
      "execution_count": 78,
      "outputs": [
        {
          "output_type": "stream",
          "name": "stdout",
          "text": [
            "1000000000000\n",
            "600000000 10000 10000 10000\n"
          ]
        }
      ]
    },
    {
      "cell_type": "code",
      "source": [
        "print(1 % 3)"
      ],
      "metadata": {
        "colab": {
          "base_uri": "https://localhost:8080/"
        },
        "id": "k8dqg5AZU_se",
        "outputId": "ce5613d2-ba0f-4a7d-cf66-147d18d68fb3"
      },
      "execution_count": 85,
      "outputs": [
        {
          "output_type": "stream",
          "name": "stdout",
          "text": [
            "1\n"
          ]
        }
      ]
    },
    {
      "cell_type": "code",
      "source": [
        "# @title 1F\n",
        "\n",
        "t = int(input())\n",
        "\n",
        "for i in range(t):\n",
        "    k = int(input())\n",
        "    delitel1 = []\n",
        "    delitel2 = []\n",
        "\n",
        "    for i in range(k):\n",
        "        p, q = map(int, input().split())\n",
        "        delitel1.append(p ** (q // 3))\n",
        "        delitel2.append(p ** (q // 3 + 1))\n",
        "\n",
        "\n",
        "\n",
        "\n",
        ""
      ],
      "metadata": {
        "colab": {
          "base_uri": "https://localhost:8080/"
        },
        "id": "A2zoLeohwPHz",
        "outputId": "20997602-0559-4d87-d552-31021852d07b"
      },
      "execution_count": 83,
      "outputs": [
        {
          "output_type": "stream",
          "name": "stdout",
          "text": [
            "1\n",
            "1\n",
            "2 5\n",
            "[1, 2, 4, 8, 8, 16, 32, 64, 16, 32, 64, 128, 128, 256, 512, 1024, 32, 64, 128, 256, 256, 512, 1024, 2048, 512, 1024, 2048, 4096, 4096, 8192, 16384, 32768]\n"
          ]
        }
      ]
    },
    {
      "cell_type": "code",
      "source": [
        "'''\n",
        "1\n",
        "4\n",
        "11 2\n",
        "2 3\n",
        "3 1\n",
        "5 4\n",
        "90200 150 110 110\n",
        "'''\n",
        "\n",
        "'''\n",
        "1815000\n",
        "89290 120 121 125\n",
        "'''"
      ],
      "metadata": {
        "id": "hX1pMPGeHLak"
      },
      "execution_count": null,
      "outputs": []
    }
  ]
}