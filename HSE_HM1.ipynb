{
  "nbformat": 4,
  "nbformat_minor": 0,
  "metadata": {
    "colab": {
      "provenance": [],
      "authorship_tag": "ABX9TyNPC+XvTGa+R0+w7BnZuzAi",
      "include_colab_link": true
    },
    "kernelspec": {
      "name": "python3",
      "display_name": "Python 3"
    },
    "language_info": {
      "name": "python"
    }
  },
  "cells": [
    {
      "cell_type": "markdown",
      "metadata": {
        "id": "view-in-github",
        "colab_type": "text"
      },
      "source": [
        "<a href=\"https://colab.research.google.com/github/VladousSparrowous/HSE-homeworks/blob/main/HSE_HM1.ipynb\" target=\"_parent\"><img src=\"https://colab.research.google.com/assets/colab-badge.svg\" alt=\"Open In Colab\"/></a>"
      ]
    },
    {
      "cell_type": "code",
      "execution_count": null,
      "metadata": {
        "colab": {
          "base_uri": "https://localhost:8080/"
        },
        "id": "M7LdU6dPAHKi",
        "outputId": "2b19ea9e-ecc0-40a3-8beb-8fe2bb01c4b4"
      },
      "outputs": [
        {
          "output_type": "stream",
          "name": "stdout",
          "text": [
            "20\n",
            "10946\n"
          ]
        }
      ],
      "source": [
        "# @title 1A\n",
        "\n",
        "def Fib(n):\n",
        "    if n == 0:\n",
        "        return 1, 0\n",
        "    if n == 1:\n",
        "        return 1, 1\n",
        "\n",
        "    F1, F2 = Fib(n - 2)\n",
        "    Fn2 = F1 + F2\n",
        "    Fn1 = Fn2 + F1\n",
        "    return Fn1, Fn2\n",
        "\n",
        "n = int(input())\n",
        "print(Fib(n)[0])"
      ]
    },
    {
      "cell_type": "code",
      "source": [
        "# @title 1B\n",
        "\n",
        "n = int(input())\n",
        "mas = list(map(int, input().split()))\n",
        "\n",
        "for i in range(n // 2):\n",
        "    mas[i], mas[n - 1 - i] = mas[n - 1 - i], mas[i]\n",
        "print(*mas)"
      ],
      "metadata": {
        "colab": {
          "base_uri": "https://localhost:8080/"
        },
        "id": "hi618gviBpjG",
        "outputId": "aa4936b5-1863-4dce-c604-7ac4a1c1b83c"
      },
      "execution_count": null,
      "outputs": [
        {
          "output_type": "stream",
          "name": "stdout",
          "text": [
            "3\n",
            "1 2 -3\n",
            "-3 2 1\n"
          ]
        }
      ]
    },
    {
      "cell_type": "code",
      "source": [
        "# @title 1C\n",
        "\n",
        "n = int(input())\n",
        "mas = list(map(int, input().split()))\n",
        "\n",
        "new_mas = list()\n",
        "count = 0\n",
        "for i in mas:\n",
        "    ind = 0\n",
        "    for j in range(len(new_mas) - 1, -1, -1):\n",
        "        count += 1\n",
        "        if new_mas[j] <= i:\n",
        "            ind = j + 1\n",
        "            break\n",
        "    new_mas = new_mas[:ind] + [i] + new_mas[ind:]\n",
        "\n",
        "print(count)"
      ],
      "metadata": {
        "colab": {
          "base_uri": "https://localhost:8080/"
        },
        "id": "64wDhA1mCv11",
        "outputId": "f60c7502-1e8a-4ec4-cff1-a5ff06a503c5"
      },
      "execution_count": null,
      "outputs": [
        {
          "output_type": "stream",
          "name": "stdout",
          "text": [
            "5\n",
            "2 2 1 1 2\n",
            "7\n"
          ]
        }
      ]
    },
    {
      "cell_type": "code",
      "source": [
        "# @title 1D\n",
        "\n",
        "n = int(input())\n",
        "triplets = list()\n",
        "s_min = 6 * n * n\n",
        "for a in range(1, int(n ** (1 / 3)) + 2):\n",
        "    if n % a == 0:\n",
        "        for b in range(1, int((n // a) ** (1 / 2)) + 2):\n",
        "            c = n // (a * b)\n",
        "            if a * b * c == n:\n",
        "                s = 2 * (a * b + b * c + a * c)\n",
        "                if s < s_min:\n",
        "                    triplets = [(a, b, c)]\n",
        "                    s_min = s\n",
        "\n",
        "                if s == s_min:\n",
        "                    triplets.append((a, b, c))\n",
        "\n",
        "print(*min(triplets))\n"
      ],
      "metadata": {
        "colab": {
          "base_uri": "https://localhost:8080/"
        },
        "id": "Q1bOTKpCNxFV",
        "outputId": "6381eb2e-45d2-4907-e81d-3368aa6960f3"
      },
      "execution_count": null,
      "outputs": [
        {
          "output_type": "stream",
          "name": "stdout",
          "text": [
            "1000000\n",
            "100 100 100\n"
          ]
        }
      ]
    },
    {
      "cell_type": "code",
      "source": [
        "# @title 1E\n",
        "\n",
        "n = int(input())\n",
        "min_s = 2 * n + 1\n",
        "triplet_with_s = (2 * min_s, 1, 1, n)\n",
        "\n",
        "for a in range(int(n ** (1 / 3)) + 2, 0, -1):\n",
        "    if n % a == 0:\n",
        "        for b in range(int((n // a) ** (1 / 2)) + 2, 0, -1):\n",
        "            c = n // (a * b)\n",
        "            if a * b * c == n:\n",
        "                s = (a * b + b * c + a * c)\n",
        "                if s < min_s:\n",
        "                    min_s = s\n",
        "                    triplet_with_s = (2 * s, a, b, c)\n",
        "\n",
        "                if s > 2 * min_s:\n",
        "                    break\n",
        "\n",
        "print(*triplet_with_s)\n",
        "\n"
      ],
      "metadata": {
        "colab": {
          "base_uri": "https://localhost:8080/"
        },
        "id": "ejYJP-MlRLjG",
        "outputId": "83ecddad-43ba-4d74-fcb5-665edb40f4a9"
      },
      "execution_count": null,
      "outputs": [
        {
          "output_type": "stream",
          "name": "stdout",
          "text": [
            "1000000000000\n",
            "600000000 10000 10000 10000\n"
          ]
        }
      ]
    },
    {
      "cell_type": "code",
      "source": [
        "for a in range(1, 64):\n",
        "    for b in range(1, 64):\n",
        "        for c in range(1, 64):\n",
        "            if a * b + b * c + a * c == 64:\n",
        "                print(a * b * c)\n"
      ],
      "metadata": {
        "colab": {
          "base_uri": "https://localhost:8080/"
        },
        "id": "agW-bu_ZoQCv",
        "outputId": "3b2b458c-08ec-4e93-b852-998424dc9fc3"
      },
      "execution_count": null,
      "outputs": [
        {
          "output_type": "stream",
          "name": "stdout",
          "text": [
            "48\n",
            "48\n",
            "60\n",
            "60\n",
            "48\n",
            "96\n",
            "96\n",
            "48\n",
            "96\n",
            "48\n",
            "48\n",
            "60\n"
          ]
        }
      ]
    },
    {
      "cell_type": "code",
      "source": [
        "# @title 1F\n",
        "def delitel(q, Q):\n",
        "    new_Q = list()\n",
        "    for i in Q:\n",
        "        for j in range(0, q + 1):\n",
        "             new_Q.append(i + [j])\n",
        "    return new_Q\n",
        "\n",
        "t = int(input())\n",
        "\n",
        "for _ in range(t):\n",
        "    ans = 0\n",
        "    min_s = 10**20\n",
        "\n",
        "    k = int(input())\n",
        "    Q = list()\n",
        "    P = list()\n",
        "\n",
        "    for _ in range(k):\n",
        "        p, q = map(int, input().split())\n",
        "        P.append(p)\n",
        "        Q.append(q)\n",
        "\n",
        "    Q_min = [i // 3 for i in Q]\n",
        "    if sum([i % 3 == 0 for i in Q]) == len(Q):\n",
        "        a = 1\n",
        "        for j in range(len(P)):\n",
        "            a *= P[j] ** Q_min[j]\n",
        "        print(6 * a * a, a, a, a)\n",
        "        continue\n",
        "    Q_max = Q\n",
        "\n",
        "    Q_del = list()\n",
        "    for q in Q:\n",
        "\n",
        "        if len(Q_del) == 0:\n",
        "            Q_del = [[i] for i in range(0, q + 1)]\n",
        "        else:\n",
        "            Q_del = delitel(q, Q_del)\n",
        "    Q = Q_del\n",
        "    '''\n",
        "    print('aaa', Q_max)\n",
        "    print('aaamm', Q_min)\n",
        "    print('ppp', P)\n",
        "    print('qqq', Q)\n",
        "    '''\n",
        "\n",
        "    for i in range(len(Q) - 1, -1, -1):\n",
        "\n",
        "        for j in range(len(Q) - i - 1, -1, -1):\n",
        "\n",
        "            # print((i, j))\n",
        "            a = 1\n",
        "            b = 1\n",
        "            c = 1\n",
        "            for k in range(len(P)):\n",
        "                a *= P[k] ** Q[i][k]\n",
        "                b *= P[k] ** Q[j][k]\n",
        "                Q_c = Q_max[k] - Q[i][k] - Q[j][k]\n",
        "                if Q_c < 0:\n",
        "                    a, b, c = 0, 0, 0\n",
        "                    break\n",
        "                c *= P[k] ** (Q_c)\n",
        "\n",
        "            s = 2 * (a * b + b * c + a * c)\n",
        "            if s < min_s and s != 0:\n",
        "                min_s = s\n",
        "                ans = (s, a, b, c)\n",
        "\n",
        "    print(*ans)\n"
      ],
      "metadata": {
        "colab": {
          "base_uri": "https://localhost:8080/"
        },
        "id": "1dvX2BVxM7FP",
        "outputId": "a3568e42-ad71-4da0-beb1-351e9d8277c5"
      },
      "execution_count": null,
      "outputs": [
        {
          "output_type": "stream",
          "name": "stdout",
          "text": [
            "1\n",
            "4\n",
            "11 2\n",
            "2 3\n",
            "3 1\n",
            "5 4\n",
            "89290 121 120 125\n"
          ]
        }
      ]
    },
    {
      "cell_type": "code",
      "source": [
        "'''\n",
        "1\n",
        "4\n",
        "11 2\n",
        "2 3\n",
        "3 1\n",
        "5 4\n",
        "90200 150 110 110\n",
        "'''\n",
        "\n",
        "'''\n",
        "1815000\n",
        "89290 120 121 125\n",
        "'''"
      ],
      "metadata": {
        "id": "hX1pMPGeHLak"
      },
      "execution_count": null,
      "outputs": []
    }
  ]
}