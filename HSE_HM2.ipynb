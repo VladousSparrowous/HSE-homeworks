{
  "nbformat": 4,
  "nbformat_minor": 0,
  "metadata": {
    "colab": {
      "provenance": [],
      "authorship_tag": "ABX9TyNn1v6IJs4Gm75hQDNUs+xg",
      "include_colab_link": true
    },
    "kernelspec": {
      "name": "python3",
      "display_name": "Python 3"
    },
    "language_info": {
      "name": "python"
    }
  },
  "cells": [
    {
      "cell_type": "markdown",
      "metadata": {
        "id": "view-in-github",
        "colab_type": "text"
      },
      "source": [
        "<a href=\"https://colab.research.google.com/github/VladousSparrowous/HSE-homeworks/blob/main/HSE_HM2.ipynb\" target=\"_parent\"><img src=\"https://colab.research.google.com/assets/colab-badge.svg\" alt=\"Open In Colab\"/></a>"
      ]
    },
    {
      "cell_type": "code",
      "execution_count": null,
      "metadata": {
        "id": "O3pDFV0_Yv6q",
        "colab": {
          "base_uri": "https://localhost:8080/"
        },
        "outputId": "f218b8ef-d105-4cb3-93a0-38647ae3279c"
      },
      "outputs": [
        {
          "output_type": "stream",
          "name": "stdout",
          "text": [
            "5\n",
            "00111\n",
            "1 2\n"
          ]
        }
      ],
      "source": [
        "# @title 3A\n",
        "def solution():\n",
        "    n = int(input()) - 1\n",
        "    s = input()\n",
        "\n",
        "    if s[0] == '1':\n",
        "        return -1, 0\n",
        "    if s[n] == '0':\n",
        "        return n, n + 1\n",
        "\n",
        "    left_ind = 0\n",
        "    right_ind = n\n",
        "    while True:\n",
        "        center = left_ind + (right_ind - left_ind) // 2\n",
        "        if s[center] == '0':\n",
        "            if s[center + 1] == '1':\n",
        "                return center, center + 1\n",
        "            else:\n",
        "                left_ind = center + 1\n",
        "\n",
        "        if s[center] == '1':\n",
        "            if s[center - 1] == '0':\n",
        "                return center - 1, center\n",
        "            else:\n",
        "                right_ind = center - 1\n",
        "\n",
        "print(*solution())\n"
      ]
    },
    {
      "cell_type": "code",
      "source": [
        "# @title 3B\n",
        "\n",
        "\n",
        "n, k = map(int, input().split())\n",
        "seq = list(map(int, input().split()))\n",
        "b = list(map(int, input().split()))\n",
        "\n",
        "\n",
        "left_seq = 0\n",
        "right_seq = n - 1\n",
        "\n",
        "left_b = 0\n",
        "right_b = k - 1\n",
        "\n",
        "answ = [0] * k\n",
        "\n",
        "def bin_search(b, left_seq, right_seq):\n",
        "\n",
        "    while left_seq <= right_seq:\n",
        "        center = left_seq + (right_seq - left_seq) // 2\n",
        "        if seq[center] == b:\n",
        "            return center\n",
        "        if seq[center] > b:\n",
        "            right_seq = center - 1\n",
        "        if seq[center] < b:\n",
        "            left_seq = center + 1\n",
        "    return -1\n",
        "\n",
        "\n",
        "def search(left_b, right_b, left_seq, right_seq):\n",
        "    if left_b > right_b or left_seq > right_seq:\n",
        "        return 0\n",
        "    center = left_b + (right_b - left_b) // 2\n",
        "    actual_b = b[center]\n",
        "    ind = bin_search(actual_b, left_seq, right_seq)\n",
        "\n",
        "    if ind == -1:\n",
        "        answ[center] = 'NO'\n",
        "        search(left_b, center - 1, left_seq, right_seq)\n",
        "        search(center + 1, right_b, left_seq, right_seq)\n",
        "    else:\n",
        "        answ[center] = 'YES'\n",
        "        if ind == 0:\n",
        "            for i in range(center):\n",
        "                answ[i] = 'NO'\n",
        "            left_b = center + 1\n",
        "\n",
        "        if ind == n - 1:\n",
        "            for i in range(center + 1, right_b + 1):\n",
        "                answ[i] = 'NO'\n",
        "            right_b = center - 1\n",
        "\n",
        "        search(left_b, center - 1, left_seq, ind)\n",
        "        search(center + 1, right_b, ind, right_seq)\n",
        "\n",
        "search(left_b, right_b, left_seq, right_seq)\n",
        "print(*answ, sep='\\n')"
      ],
      "metadata": {
        "colab": {
          "base_uri": "https://localhost:8080/"
        },
        "id": "LAHksTBukFUY",
        "outputId": "130a61e1-7c99-4f52-ff82-bae9154401e8"
      },
      "execution_count": null,
      "outputs": [
        {
          "output_type": "stream",
          "name": "stdout",
          "text": [
            "YES\n"
          ]
        }
      ]
    }
  ]
}