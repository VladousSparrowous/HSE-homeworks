{
  "nbformat": 4,
  "nbformat_minor": 0,
  "metadata": {
    "colab": {
      "provenance": [],
      "authorship_tag": "ABX9TyMU7PXAk2hPDV1fKJ1NYCKc",
      "include_colab_link": true
    },
    "kernelspec": {
      "name": "python3",
      "display_name": "Python 3"
    },
    "language_info": {
      "name": "python"
    }
  },
  "cells": [
    {
      "cell_type": "markdown",
      "metadata": {
        "id": "view-in-github",
        "colab_type": "text"
      },
      "source": [
        "<a href=\"https://colab.research.google.com/github/VladousSparrowous/HSE-homeworks/blob/main/python_HW1.ipynb\" target=\"_parent\"><img src=\"https://colab.research.google.com/assets/colab-badge.svg\" alt=\"Open In Colab\"/></a>"
      ]
    },
    {
      "cell_type": "code",
      "execution_count": null,
      "metadata": {
        "id": "Gk4uxkxYJUT1",
        "colab": {
          "base_uri": "https://localhost:8080/"
        },
        "outputId": "d54c36f7-0c9c-4d0d-f4bf-73a21487efc3"
      },
      "outputs": [
        {
          "output_type": "stream",
          "name": "stdout",
          "text": [
            "2\n"
          ]
        }
      ],
      "source": [
        "# @title A\n",
        "\n",
        "def bits_seqs(n):\n",
        "\n",
        "    current_seq = -1\n",
        "\n",
        "    count_seq_0 = 0\n",
        "    count_seq_1 = 0\n",
        "\n",
        "    while n != 0 and n != n // 2:\n",
        "        k = n % 2\n",
        "        if k != current_seq:\n",
        "\n",
        "            if k == 1 and current_seq != -1:\n",
        "                count_seq_0 += 1\n",
        "\n",
        "            if k == 0 and current_seq != -1:\n",
        "                count_seq_1 += 1\n",
        "\n",
        "            current_seq = k\n",
        "        n = n // 2\n",
        "\n",
        "    if n == 0:\n",
        "        return count_seq_0\n",
        "    else:\n",
        "        return count_seq_1\n",
        "\n",
        "print(bits_seqs(100))"
      ]
    },
    {
      "cell_type": "code",
      "source": [
        "# @title B\n",
        "\n",
        "def invert_digits(n):\n",
        "    answ = 0\n",
        "    miss = 0\n",
        "    while n:\n",
        "        k = n % 10\n",
        "        answ = 10 * answ + k\n",
        "        if answ == 0:\n",
        "            miss += 1\n",
        "        n = n // 10\n",
        "\n",
        "    if miss:\n",
        "        return answ, miss\n",
        "\n",
        "    return answ\n",
        "\n",
        "print(invert_digits(1234567890))"
      ],
      "metadata": {
        "colab": {
          "base_uri": "https://localhost:8080/"
        },
        "id": "i3iQpdkBOwka",
        "outputId": "6e88dacf-1c76-469a-a875-281ac8149251"
      },
      "execution_count": null,
      "outputs": [
        {
          "output_type": "stream",
          "name": "stdout",
          "text": [
            "(987654321, 1)\n"
          ]
        }
      ]
    },
    {
      "cell_type": "code",
      "source": [
        "# @title C\n",
        "\n",
        "def pr(ba):\n",
        "    print(*[i for i in ba])\n",
        "\n",
        "def ba_dedup(ba):\n",
        "    n = len(ba)\n",
        "    ind = 0\n",
        "    was_duplicat = False\n",
        "\n",
        "    for i in range(n):\n",
        "        if ind == 0 or ba[i] != ba[ind - 1]:\n",
        "            ba[ind] = ba[i]\n",
        "            ind += 1\n",
        "        else:\n",
        "            was_duplicat = True\n",
        "\n",
        "    if not was_duplicat:\n",
        "        return None\n",
        "\n",
        "    ba[ind] = 255\n",
        "    ind += 1\n",
        "    i = 0\n",
        "    while ind < n:\n",
        "        ba[ind] = ba[i]\n",
        "        ind += 1\n",
        "        i += 1\n",
        "        if ba[i - 1] == 255:\n",
        "            i = 0\n"
      ],
      "metadata": {
        "id": "gGtQZs-kfMB4"
      },
      "execution_count": 2,
      "outputs": []
    },
    {
      "cell_type": "code",
      "source": [
        "A = bytearray([11, 11, 11, 11, 11, 22, 22, 22, 22, 22, 33, 44, 44, 44, 55])\n",
        "pr(A)\n",
        "print(len(A))\n",
        "ba_dedup(A)\n",
        "print('------------------------')\n",
        "pr(A)\n",
        "print(len(A))"
      ],
      "metadata": {
        "colab": {
          "base_uri": "https://localhost:8080/"
        },
        "id": "SRc4DvwaySiu",
        "outputId": "6ed40acb-0c4f-4c99-8605-bc8dfd713a4b"
      },
      "execution_count": 3,
      "outputs": [
        {
          "output_type": "stream",
          "name": "stdout",
          "text": [
            "11 11 11 11 11 22 22 22 22 22 33 44 44 44 55\n",
            "15\n",
            "------------------------\n",
            "11 22 33 44 55 255 11 22 33 44 55 255 11 22 33\n",
            "15\n"
          ]
        }
      ]
    },
    {
      "cell_type": "code",
      "source": [
        "# @title D\n",
        "\n",
        "def varint_encode(num):\n",
        "    num = bin(num)[2:]\n",
        "\n",
        "    bonus_len = len(num) % 7\n",
        "\n",
        "    if bonus_len:\n",
        "        bonus_len = 7 - bonus_len\n",
        "\n",
        "    if bonus_len:\n",
        "        num = ''.join(['0'] * bonus_len) + num\n",
        "\n",
        "    last_bit = '1'\n",
        "    answ = bytearray()\n",
        "\n",
        "    for i in range(len(num), 6, -7):\n",
        "        if i-7 == 0:\n",
        "            last_bit = '0'\n",
        "        b = last_bit + num[i-7: i]\n",
        "\n",
        "        answ.append(int(b, 2))\n",
        "    return answ"
      ],
      "metadata": {
        "id": "RmFfJA5UCLjR"
      },
      "execution_count": 182,
      "outputs": []
    },
    {
      "cell_type": "code",
      "source": [
        "ba = varint_encode(256)\n",
        "pr(ba)"
      ],
      "metadata": {
        "colab": {
          "base_uri": "https://localhost:8080/"
        },
        "id": "9Qok9avBHjzY",
        "outputId": "9d62c1a9-bb08-4993-bc25-747285780738"
      },
      "execution_count": 254,
      "outputs": [
        {
          "output_type": "stream",
          "name": "stdout",
          "text": [
            "128 2\n"
          ]
        }
      ]
    },
    {
      "cell_type": "code",
      "source": [
        "# @title E\n",
        "\n",
        "def varint_decode(ba):\n",
        "    int_array = []\n",
        "    last_num = 0\n",
        "    count = 1\n",
        "    for i in ba:\n",
        "        if i >= 128:\n",
        "            delta = i - 128\n",
        "            last_num += delta * count\n",
        "            count = count * 128\n",
        "        else:\n",
        "            last_num += i * count\n",
        "            int_array.append(last_num)\n",
        "            count = 1\n",
        "            last_num = 0\n",
        "    if count != 1:\n",
        "        int_array.append(None)\n",
        "    return int_array"
      ],
      "metadata": {
        "id": "eOiuAgOobnhA"
      },
      "execution_count": 237,
      "outputs": []
    },
    {
      "cell_type": "code",
      "source": [
        "A = bytearray([172, 2, 2, 128])\n",
        "print(varint_decode(A))"
      ],
      "metadata": {
        "colab": {
          "base_uri": "https://localhost:8080/"
        },
        "id": "-pJl7t1BcOw6",
        "outputId": "68e3e4d1-bb1a-4078-81b2-caa3e00cef9c"
      },
      "execution_count": 239,
      "outputs": [
        {
          "output_type": "stream",
          "name": "stdout",
          "text": [
            "[300, 2, None]\n"
          ]
        }
      ]
    },
    {
      "cell_type": "code",
      "source": [
        "# @title F\n",
        "\n",
        "def zigzag_encode(num):\n",
        "    if num >= 0:\n",
        "        num = 2 * num\n",
        "    else:\n",
        "        num = -2 * num - 1\n",
        "    num = bin(num)[2:]\n",
        "\n",
        "    bonus_len = len(num) % 7\n",
        "\n",
        "    if bonus_len:\n",
        "        bonus_len = 7 - bonus_len\n",
        "\n",
        "    if bonus_len:\n",
        "        num = ''.join(['0'] * bonus_len) + num\n",
        "\n",
        "    last_bit = '1'\n",
        "    answ = bytearray()\n",
        "\n",
        "    for i in range(len(num), 6, -7):\n",
        "        if i-7 == 0:\n",
        "            last_bit = '0'\n",
        "        b = last_bit + num[i-7: i]\n",
        "\n",
        "        answ.append(int(b, 2))\n",
        "    return answ"
      ],
      "metadata": {
        "id": "OpYgiPaYi44y"
      },
      "execution_count": 240,
      "outputs": []
    },
    {
      "cell_type": "code",
      "source": [
        "# @title G\n",
        "\n",
        "def zigzag_decode(ba):\n",
        "    int_array = []\n",
        "    last_num = 0\n",
        "    count = 1\n",
        "    for i in ba:\n",
        "        if i >= 128:\n",
        "            delta = i - 128\n",
        "            last_num += delta * count\n",
        "            count = count * 128\n",
        "        else:\n",
        "            last_num += i * count\n",
        "            if last_num % 2:\n",
        "                last_num = -1 * ((last_num + 1) // 2)\n",
        "            else:\n",
        "                last_num = last_num // 2\n",
        "\n",
        "            int_array.append(last_num)\n",
        "            count = 1\n",
        "            last_num = 0\n",
        "\n",
        "    if count != 1:\n",
        "        int_array.append(None)\n",
        "    return int_array"
      ],
      "metadata": {
        "id": "JbZg62ihkhgn"
      },
      "execution_count": 241,
      "outputs": []
    },
    {
      "cell_type": "code",
      "source": [
        "A = bytearray([172, 2, 2, 1, 128])\n",
        "print(zigzag_decode(A))"
      ],
      "metadata": {
        "colab": {
          "base_uri": "https://localhost:8080/"
        },
        "id": "vcTySY1UluB3",
        "outputId": "6e8f0a06-1639-4ce2-d3ef-4281c584e78b"
      },
      "execution_count": 243,
      "outputs": [
        {
          "output_type": "stream",
          "name": "stdout",
          "text": [
            "[150, 1, -1, None]\n"
          ]
        }
      ]
    },
    {
      "cell_type": "code",
      "source": [
        "# @title H\n",
        "\n",
        "def is_prime_number(num):\n",
        "    if isinstance(num, int) and num > 0:\n",
        "        if num == 1:\n",
        "            return False\n",
        "\n",
        "        for i in range(2, int(num**0.5) + 1):\n",
        "            if num % i == 0:\n",
        "                return False\n",
        "        return True\n",
        "    return None"
      ],
      "metadata": {
        "id": "1NTZxzSsl-5m"
      },
      "execution_count": 265,
      "outputs": []
    },
    {
      "cell_type": "code",
      "source": [
        "print(is_prime_number(1))"
      ],
      "metadata": {
        "colab": {
          "base_uri": "https://localhost:8080/"
        },
        "id": "r1RhSpckslga",
        "outputId": "6fd521a5-9345-4c08-d95d-feb58e198cd2"
      },
      "execution_count": 266,
      "outputs": [
        {
          "output_type": "stream",
          "name": "stdout",
          "text": [
            "False\n"
          ]
        }
      ]
    },
    {
      "cell_type": "code",
      "source": [
        "# @title I\n",
        "\n",
        "def division_steps(a, b):\n",
        "    s = ''\n",
        "    start = False\n",
        "    answ = []\n",
        "    answ.append(f'{bin(a)[2:]}/{bin(b)[2:]}')\n",
        "    if a == 0:\n",
        "        answ.append('0.')\n",
        "        return answ\n",
        "\n",
        "    while a:\n",
        "        if a < b:\n",
        "            if not start:\n",
        "                s = '0.'\n",
        "                start = True\n",
        "            else:\n",
        "                s += '0'\n",
        "            a = a * 2\n",
        "            answ.append(f'*: {bin(a)[2:]}/{bin(b)[2:]} {s}')\n",
        "        else:\n",
        "            s += '1'\n",
        "            a = (a - b) * 2\n",
        "            answ.append(f'-: {bin(a)[2:]}/{bin(b)[2:]} {s}')\n",
        "    answ.append(s)\n",
        "    return answ"
      ],
      "metadata": {
        "id": "shfrIKUbtgJ6"
      },
      "execution_count": 70,
      "outputs": []
    },
    {
      "cell_type": "code",
      "source": [
        "print(*division_steps(15, 24),sep='\\n')"
      ],
      "metadata": {
        "colab": {
          "base_uri": "https://localhost:8080/"
        },
        "id": "6i8BzYYs9eMa",
        "outputId": "a279a02d-75fa-494b-e99d-29cf58f0636b"
      },
      "execution_count": 71,
      "outputs": [
        {
          "output_type": "stream",
          "name": "stdout",
          "text": [
            "1111/11000\n",
            "*: 11110/11000 0.\n",
            "-: 1100/11000 0.1\n",
            "*: 11000/11000 0.10\n",
            "-: 0/11000 0.101\n",
            "0.101\n"
          ]
        }
      ]
    },
    {
      "cell_type": "code",
      "source": [
        "# @title J\n",
        "\n",
        "def utf8_size_hist(src):\n",
        "    ..."
      ],
      "metadata": {
        "id": "1i0WpHULB_Qo"
      },
      "execution_count": null,
      "outputs": []
    },
    {
      "cell_type": "code",
      "source": [
        "import numpy as np\n",
        "A = np.array([[0, 4, -7], [-4, 0, 4], [7, -4, 0]])\n",
        "v1 = np.array([-4, -7, -4]) / 9\n",
        "v2 = np.array([-7, 8, -7]) / (9 * np.sqrt(2))\n",
        "v3 = np.array([1, 0, -1]) / np.sqrt(2)\n",
        "Q =\n",
        "P = np.vstack((v1, v2, v3)).T\n",
        "P_1 = np.linalg.inv(P)\n",
        "print(P_1 @ A @ P)"
      ],
      "metadata": {
        "colab": {
          "base_uri": "https://localhost:8080/"
        },
        "id": "1CFCgPrGStE-",
        "outputId": "62d10c05-4193-4a2e-8bdf-10688eb33f96"
      },
      "execution_count": 93,
      "outputs": [
        {
          "output_type": "stream",
          "name": "stdout",
          "text": [
            "[[ 9.86864911e-17  1.22118302e-16 -1.57009246e-16]\n",
            " [ 4.03725474e-16  6.63401474e-16 -9.00000000e+00]\n",
            " [-4.67521021e-16  9.00000000e+00  1.37549587e-16]]\n"
          ]
        }
      ]
    }
  ]
}