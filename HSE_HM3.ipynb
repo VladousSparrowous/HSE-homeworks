{
  "nbformat": 4,
  "nbformat_minor": 0,
  "metadata": {
    "colab": {
      "provenance": [],
      "authorship_tag": "ABX9TyOXqykxqv8hZ2GXUbdwnd9j",
      "include_colab_link": true
    },
    "kernelspec": {
      "name": "python3",
      "display_name": "Python 3"
    },
    "language_info": {
      "name": "python"
    }
  },
  "cells": [
    {
      "cell_type": "markdown",
      "metadata": {
        "id": "view-in-github",
        "colab_type": "text"
      },
      "source": [
        "<a href=\"https://colab.research.google.com/github/VladousSparrowous/HSE-homeworks/blob/main/HSE_HM3.ipynb\" target=\"_parent\"><img src=\"https://colab.research.google.com/assets/colab-badge.svg\" alt=\"Open In Colab\"/></a>"
      ]
    },
    {
      "cell_type": "code",
      "execution_count": 3,
      "metadata": {
        "colab": {
          "base_uri": "https://localhost:8080/"
        },
        "id": "dWSxh9IHeeyN",
        "outputId": "055d42eb-aa3b-488a-9629-59da92eb6679"
      },
      "outputs": [
        {
          "output_type": "stream",
          "name": "stdout",
          "text": [
            "9\n",
            "2 2 2 3 2 3 4 3 1\n",
            "0 1 2 3 3 5 6 6 0\n"
          ]
        }
      ],
      "source": [
        "# @title 4A\n",
        "\n",
        "n = int(input())\n",
        "M = list(map(int, input().split()))\n",
        "\n",
        "arr = [0] * 100\n",
        "answ = []\n",
        "for j in range(len(M)):\n",
        "    ind = 1\n",
        "    s = 0\n",
        "    while ind <= M[j] and s < j:\n",
        "        s += arr[ind - 1]\n",
        "        ind += 1\n",
        "    answ.append(s)\n",
        "    arr[M[j] - 1] += 1\n",
        "\n",
        "print(*answ)"
      ]
    },
    {
      "cell_type": "code",
      "source": [
        "# @title 4B\n",
        "\n",
        "answ = dict()\n",
        "for i in range(int(input())):\n",
        "    s, num = input().split()\n",
        "    num = int(num)\n",
        "    if not num in answ:\n",
        "        answ[num] = 0\n",
        "\n",
        "    if s == '+':\n",
        "        answ[num] += 1\n",
        "\n",
        "    if s == '-':\n",
        "        if answ[num] == 0:\n",
        "            print(f'query #{i + 1}: can not delete {num}')\n",
        "\n",
        "        elif answ[num] == 1:\n",
        "            answ[num] = 0\n",
        "            print(f'after query {i + 1} number {num} disappeared')\n",
        "\n",
        "        else:\n",
        "            answ[num] -= 1"
      ],
      "metadata": {
        "colab": {
          "base_uri": "https://localhost:8080/"
        },
        "id": "UopAtmVLtoIH",
        "outputId": "5e6d879a-b809-43c9-9d8d-b65c95fa46c4"
      },
      "execution_count": 7,
      "outputs": [
        {
          "output_type": "stream",
          "name": "stdout",
          "text": [
            "8\n",
            "- 7\n",
            "query #1: can not delete 7\n",
            "+ 7\n",
            "- 7\n",
            "after query 3 number 7 disappeared\n",
            "- 1\n",
            "query #4: can not delete 1\n",
            " - 1\n",
            "query #5: can not delete 1\n",
            "- 1\n",
            "query #6: can not delete 1\n",
            "- 1\n",
            "query #7: can not delete 1\n",
            "- 1\n",
            "query #8: can not delete 1\n"
          ]
        }
      ]
    },
    {
      "cell_type": "code",
      "source": [
        "# @title 4C\n",
        "\n",
        "n = int(input())\n",
        "hash = dict()\n",
        "\n",
        "for i in range(n):\n",
        "    a, b = map(int, input().split())\n",
        "    d1 = a\n",
        "    d2 = b\n",
        "    if a in hash:\n",
        "        d1 = hash[a]\n",
        "    if b in hash:\n",
        "        d2 = hash[b]\n",
        "\n",
        "    print(abs(d1 - d2))\n",
        "\n",
        "    hash[b] = d1\n",
        "    hash[a] = d2"
      ],
      "metadata": {
        "colab": {
          "base_uri": "https://localhost:8080/"
        },
        "id": "J2wHuq6G1N4x",
        "outputId": "d593d1ab-7055-49ae-8320-3c05df1d8a88"
      },
      "execution_count": 14,
      "outputs": [
        {
          "output_type": "stream",
          "name": "stdout",
          "text": [
            "4\n",
            "1 4\n",
            "3\n",
            "1 3\n",
            "1\n",
            "4 5\n",
            "4\n",
            "1 4\n",
            "2\n"
          ]
        }
      ]
    },
    {
      "cell_type": "code",
      "source": [
        "# @title 4D\n",
        "\n",
        "n, m = map(int, input().split())\n",
        "hash = dict()\n",
        "answ = set()\n",
        "for i in range(m):\n",
        "    a, b = map(int, input().split())\n",
        "    if a != b:\n",
        "        a, b = min(a, b), max(a,b)\n",
        "        answ.add(f'{a} {b}')\n",
        "print(n, len(answ))\n",
        "print(*answ, sep='\\n')\n"
      ],
      "metadata": {
        "colab": {
          "base_uri": "https://localhost:8080/"
        },
        "id": "YiO66ebE4bOV",
        "outputId": "49a16c54-8afc-4b78-be39-b63acc7ee5ac"
      },
      "execution_count": 17,
      "outputs": [
        {
          "output_type": "stream",
          "name": "stdout",
          "text": [
            "3 5\n",
            "1 1\n",
            "1 3\n",
            "2 1\n",
            "1 2\n",
            "2 3\n",
            "3 3\n",
            "2 3\n",
            "1 2\n",
            "1 3\n"
          ]
        }
      ]
    },
    {
      "cell_type": "code",
      "source": [
        "# @title 4E\n",
        "\n",
        "\n",
        "n = int(input())\n",
        "points = []\n",
        "empty = True\n",
        "for i in range(n):\n",
        "    a, b = map(int, input().split())\n",
        "\n",
        "    points.append((a, b))\n",
        "\n",
        "    if empty:\n",
        "        empty = False\n",
        "        continue\n",
        "\n",
        "    ind = len(points) - 1\n",
        "    while ind > 0 and points[ind][0] < points[ind - 1][0]:\n",
        "        points[ind], points[ind - 1] = points[ind - 1], points[ind]\n",
        "        ind -= 1\n",
        "q = int(input())\n",
        "\n",
        "def sign_angle(q_point, k_point, end_point):\n",
        "    a_vect = (q_point[0] - k_point[0], q_point[1] - k_point[1])\n",
        "    b_vect = (end_point[0] - k_point[0], end_point[1] - k_point[1])\n",
        "    prod = a_vect[0] * b_vect[0] + a_vect[1] * b_vect[1]\n",
        "    return prod < 0\n",
        "\n",
        "def dist_sq(q, p):\n",
        "    return (q[0] - p[0]) ** 2 + (q[1] - p[1]) ** 2\n",
        "\n",
        "for i in range(q):\n",
        "    x, y = map(int, input().split())\n",
        "    q_point = (x, y)\n",
        "    if n == 1:\n",
        "        print(*points[0])\n",
        "    else:\n",
        "        left_ind = 0\n",
        "        right_ind = n - 1\n",
        "        while right_ind > left_ind:\n",
        "            mid_ind = (right_ind + left_ind) // 2\n",
        "\n",
        "            ticket = False\n",
        "            if points[mid_ind] == points[right_ind]:\n",
        "                right_ind = mid_ind\n",
        "                ticket = True\n",
        "            if points[mid_ind] == points[left_ind]:\n",
        "                left_ind = mid_ind\n",
        "                ticket = True\n",
        "\n",
        "            if not ticket:\n",
        "                sign = sign_angle(q_point,points[mid_ind], points[right_ind])\n",
        "                if sign:\n",
        "                    right_ind = mid_ind\n",
        "                else:\n",
        "                    left_ind = mid_ind\n",
        "\n",
        "        d_l = dist_sq(q_point, points[left_ind])\n",
        "        d_r = dist_sq(q_point, points[right_ind])\n",
        "\n",
        "        if d_l < d_r:\n",
        "            print(*points[left_ind])\n",
        "        elif d_l > d_r:\n",
        "            print(*points[right_ind])\n",
        "        else:\n",
        "            print(*min(points[left_ind], points[right_ind]))\n"
      ],
      "metadata": {
        "colab": {
          "base_uri": "https://localhost:8080/"
        },
        "id": "tmyhX2Lk-H7N",
        "outputId": "5ea9a651-f2e9-4b10-d191-9d19fc01298c"
      },
      "execution_count": 13,
      "outputs": [
        {
          "output_type": "stream",
          "name": "stdout",
          "text": [
            "1\n",
            "1 1\n",
            "1\n",
            "1 1\n",
            "1 1\n"
          ]
        }
      ]
    },
    {
      "cell_type": "code",
      "source": [
        "# @title 4E\n",
        "\n",
        "n = int(input())\n",
        "points = []\n",
        "\n",
        "for i in range(n):\n",
        "    a, b = map(int, input().split())\n",
        "    points.append((a, b))\n",
        "\n",
        "points.sort()\n",
        "\n",
        "def dist_sq(q, p):\n",
        "    return (q[0] - p[0]) ** 2 + (q[1] - p[1]) ** 2\n",
        "\n",
        "a = 0\n",
        "b = 0\n",
        "v = (0, 0)\n",
        "j = 0\n",
        "if n > 1 and points[0][0] != points[-1][0]:\n",
        "    p1 = points[0]\n",
        "    p2 = points[-1]\n",
        "    a = (p2[1] - p1[1]) / (p2[0] - p1[0])\n",
        "    b = (p2[0] * p1[1] - p1[0] * p2[1]) / (p2[0] - p1[0])\n",
        "    v = (p2[0] - p1[0], p2[1] - p1[1])\n",
        "else:\n",
        "    j = 1\n",
        "\n",
        "q = int(input())\n",
        "for i in range(q):\n",
        "    x, y = map(int, input().split())\n",
        "    qp = (x, y)\n",
        "    if n == 1:\n",
        "        print(*points[0])\n",
        "    elif points[0] == points[-1]:\n",
        "        print(*points[0])\n",
        "    else:\n",
        "        proj = qp[1]\n",
        "\n",
        "        if j == 0:\n",
        "            proj = (v[0] * qp[0] + v[1] * qp[1] - v[1] * b) / (v[0] + v[1] * a)\n",
        "\n",
        "        left_ind = 0\n",
        "        right_ind = n - 1\n",
        "        while right_ind - left_ind > 1:\n",
        "\n",
        "            mid_ind = (left_ind + right_ind) // 2\n",
        "            if proj < points[right_ind][j] and proj >= points[mid_ind][j]:\n",
        "                left_ind = mid_ind\n",
        "            if proj > points[left_ind][j] and proj <= points[mid_ind][j]:\n",
        "                right_ind = mid_ind\n",
        "\n",
        "            if proj >= points[right_ind][j]:\n",
        "                left_ind = right_ind\n",
        "            if proj <= points[left_ind][j]:\n",
        "                right_ind = left_ind\n",
        "\n",
        "        d_l = dist_sq(qp, points[left_ind])\n",
        "        d_r = dist_sq(qp, points[right_ind])\n",
        "\n",
        "        if d_l < d_r:\n",
        "            print(*points[left_ind])\n",
        "        elif d_l > d_r:\n",
        "            print(*points[right_ind])\n",
        "        else:\n",
        "            print(*min(points[right_ind], points[left_ind]))\n"
      ],
      "metadata": {
        "id": "C6neGqYRS7va"
      },
      "execution_count": null,
      "outputs": []
    },
    {
      "cell_type": "code",
      "source": [
        "# @title 4F\n",
        "\n",
        "n = int(input())\n",
        "arr = list(map(int, input().split()))\n",
        "q = int(input())\n",
        "for _ in range(q):\n",
        "    req = input().split()\n",
        "    if len(req) == 1:\n",
        ""
      ],
      "metadata": {
        "id": "uYlStTwbcKaM"
      },
      "execution_count": null,
      "outputs": []
    }
  ]
}